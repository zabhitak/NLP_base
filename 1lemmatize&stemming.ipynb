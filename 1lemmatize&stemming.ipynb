{
  "nbformat": 4,
  "nbformat_minor": 0,
  "metadata": {
    "colab": {
      "name": "Nltk.ipynb",
      "provenance": []
    },
    "kernelspec": {
      "name": "python3",
      "display_name": "Python 3"
    },
    "language_info": {
      "name": "python"
    }
  },
  "cells": [
    {
      "cell_type": "code",
      "metadata": {
        "id": "LFTNidngyon8"
      },
      "source": [
        "pip install nltk"
      ],
      "execution_count": null,
      "outputs": []
    },
    {
      "cell_type": "code",
      "metadata": {
        "id": "6oQMKD26zT7j"
      },
      "source": [
        "import nltk\n",
        "nltk.download('all')"
      ],
      "execution_count": null,
      "outputs": []
    },
    {
      "cell_type": "code",
      "metadata": {
        "id": "slrrNQuBbbtz"
      },
      "source": [
        "paragraph = \"\"\"I have three visions for India. In 3000 years of our history, people from all over \n",
        "               the world have come and invaded us, captured our lands, conquered our minds. \n",
        "               From Alexander onwards, the Greeks, the Turks, the Moguls, the Portuguese, the British,\n",
        "               the French, the Dutch, all of them came and looted us, took over what was ours. \n",
        "               Yet we have not done this to any other nation. We have not conquered anyone. \n",
        "               We have not grabbed their land, their culture, \n",
        "               their history and tried to enforce our way of life on them. \n",
        "               Why? Because we respect the freedom of others.That is why my \n",
        "               first vision is that of freedom. I believe that India got its first vision of \n",
        "               this in 1857, when we started the War of Independence. It is this freedom that\n",
        "               we must protect and nurture and build on. If we are not free, no one will respect us.\n",
        "               My second vision for India’s development. For fifty years we have been a developing nation.\n",
        "               It is time we see ourselves as a developed nation. We are among the top 5 nations of the world\n",
        "               in terms of GDP. We have a 10 percent growth rate in most areas. Our poverty levels are falling.\n",
        "               Our achievements are being globally recognised today. Yet we lack the self-confidence to\n",
        "               see ourselves as a developed nation, self-reliant and self-assured. Isn’t this incorrect?\n",
        "               I have a third vision. India must stand up to the world. Because I believe that unless India \n",
        "               stands up to the world, no one will respect us. Only strength respects strength. We must be \n",
        "               strong not only as a military power but also as an economic power. Both must go hand-in-hand. \n",
        "               My good fortune was to have worked with three great minds. Dr. Vikram Sarabhai of the Dept. of \n",
        "               space, Professor Satish Dhawan, who succeeded him and Dr. Brahm Prakash, father of nuclear material.\n",
        "               I was lucky to have worked with all three of them closely and consider this the great opportunity of my life. \n",
        "               I see four milestones in my career\"\"\""
      ],
      "execution_count": 31,
      "outputs": []
    },
    {
      "cell_type": "code",
      "metadata": {
        "id": "uMvARoZ0bRkI"
      },
      "source": [
        "#convert words into paragraph\n",
        "sentence = nltk.sent_tokenize(paragraph)\n",
        "sentence"
      ],
      "execution_count": null,
      "outputs": []
    },
    {
      "cell_type": "code",
      "metadata": {
        "id": "5DFrVuVTboSC"
      },
      "source": [
        "words = nltk.word_tokenize(paragraph)\n",
        "words,len(words)"
      ],
      "execution_count": null,
      "outputs": []
    },
    {
      "cell_type": "code",
      "metadata": {
        "colab": {
          "base_uri": "https://localhost:8080/"
        },
        "id": "EYkoiSLlzpnO",
        "outputId": "3796fa2d-911e-455e-9999-01e1ae306a2e"
      },
      "source": [
        "#tokenization : separate words,punc, stopwards from sentences\n",
        "from nltk.tokenize import sent_tokenize, word_tokenize\n",
        "text1 = \"Hi, there are you? I am not doing well\"\n",
        "tk1 = word_tokenize(text1)\n",
        "print(tk1)\n",
        "tk2 = sent_tokenize(text1)\n",
        "print(tk2)"
      ],
      "execution_count": null,
      "outputs": [
        {
          "output_type": "stream",
          "text": [
            "['Hi', ',', 'there', 'are', 'you', '?', 'I', 'am', 'not', 'doing', 'well']\n",
            "['Hi, there are you?', 'I am not doing well']\n"
          ],
          "name": "stdout"
        }
      ]
    },
    {
      "cell_type": "code",
      "metadata": {
        "colab": {
          "base_uri": "https://localhost:8080/"
        },
        "id": "s3tDxFjs1Ol3",
        "outputId": "9870df3b-2ee7-42ed-f0fc-5e9d3df821a6"
      },
      "source": [
        "#remove stopwords\n",
        "from nltk.corpus import stopwords\n",
        "stp = set(stopwords.words('english'))\n",
        "print(stp)"
      ],
      "execution_count": null,
      "outputs": [
        {
          "output_type": "stream",
          "text": [
            "{'under', 'having', 'll', 'between', 'up', 'only', 'those', 'if', 'at', 'below', \"you'll\", \"you're\", 'the', 'with', 'mustn', 'these', 'won', 'what', 'just', 'same', 'your', 'doing', \"should've\", \"wasn't\", \"weren't\", 'should', 'have', 'until', 'in', 'isn', 'wasn', \"didn't\", 'now', 'them', 'because', 've', \"isn't\", \"mustn't\", \"aren't\", 'y', 'didn', 'during', \"you've\", 'out', 'for', 'further', 'and', \"she's\", 'weren', 'it', 'did', 'mightn', 'how', 'ourselves', 'from', 'me', 'to', 'shouldn', 'after', 'm', 're', 'doesn', 'down', 'then', 't', 'all', 'of', 'i', 'can', 'has', 'by', 'herself', 'you', 'itself', 'so', \"hasn't\", 'any', 'that', 'had', 'were', 'against', \"that'll\", 'aren', 'there', 'hasn', 'we', 'does', 'couldn', \"needn't\", 'ma', 'ain', 'yours', 'ours', 'few', \"it's\", 'yourself', 's', 'about', 'is', 'their', \"you'd\", 'again', 'himself', 'into', 'o', 'being', 'she', 'are', \"don't\", 'a', 'who', 'too', 'hers', 'theirs', 'don', 'other', 'our', 'd', 'he', 'both', 'an', \"won't\", 'such', 'above', 'whom', 'be', 'before', 'why', 'hadn', \"mightn't\", 'most', 'than', 'they', 'not', \"wouldn't\", 'off', 'where', 'as', 'nor', 'shan', 'myself', \"couldn't\", 'but', 'when', 'do', \"doesn't\", 'themselves', 'yourselves', 'his', 'over', \"shan't\", 'am', 'very', 'no', \"hadn't\", 'wouldn', 'some', 'through', 'or', 'which', 'my', 'him', 'on', 'each', 'while', 'was', 'own', 'will', \"haven't\", 'once', 'this', 'more', 'been', 'here', 'needn', 'its', 'her', 'haven', \"shouldn't\"}\n"
          ],
          "name": "stdout"
        }
      ]
    },
    {
      "cell_type": "code",
      "metadata": {
        "id": "PpSGLFAn1kEc"
      },
      "source": [
        "import os\n",
        "os.listdir(nltk.data.find('corpora'))"
      ],
      "execution_count": null,
      "outputs": []
    },
    {
      "cell_type": "code",
      "metadata": {
        "id": "o-pm49hS1uEV"
      },
      "source": [
        "nltk.corpus.gutenberg.fileids()"
      ],
      "execution_count": null,
      "outputs": []
    },
    {
      "cell_type": "code",
      "metadata": {
        "colab": {
          "base_uri": "https://localhost:8080/"
        },
        "id": "KZ8M9TgD4cYI",
        "outputId": "4b219b23-c088-4e8e-f98e-3ba5e7768171"
      },
      "source": [
        "hm1 = nltk.corpus.gutenberg.words(\"shakespeare-hamlet.txt\")\n",
        "# for i in hm1:\n",
        "#   print(i)"
      ],
      "execution_count": null,
      "outputs": [
        {
          "output_type": "execute_result",
          "data": {
            "text/plain": [
              "['[', 'The', 'Tragedie', 'of', 'Hamlet', 'by', ...]"
            ]
          },
          "metadata": {
            "tags": []
          },
          "execution_count": 27
        }
      ]
    },
    {
      "cell_type": "code",
      "metadata": {
        "id": "p_RhF9R16kZL"
      },
      "source": [
        "nltk.corpus.gutenberg.?"
      ],
      "execution_count": null,
      "outputs": []
    },
    {
      "cell_type": "code",
      "metadata": {
        "id": "tFNC6M2X4lGY"
      },
      "source": [
        "tokens_without_sw = [word for word in hm1 if not word in stopwords.words(\"english\")]\n",
        "tokens_without_sw"
      ],
      "execution_count": null,
      "outputs": []
    },
    {
      "cell_type": "code",
      "metadata": {
        "id": "zhb7XJUF6QWI"
      },
      "source": [
        "tk3 = word_tokenize(tokens_without_sw)\n",
        "print(tk3)\n",
        "tk4 = sent_tokenize(tokens_without_sw)\n",
        "print(tk4)"
      ],
      "execution_count": null,
      "outputs": []
    },
    {
      "cell_type": "markdown",
      "metadata": {
        "id": "P1lxLgXBNd8H"
      },
      "source": [
        "#Stemming\n"
      ]
    },
    {
      "cell_type": "code",
      "metadata": {
        "id": "qslxlDoXNfeB"
      },
      "source": [
        "from nltk.stem import PorterStemmer\n",
        "from nltk.corpus import stopwords"
      ],
      "execution_count": 6,
      "outputs": []
    },
    {
      "cell_type": "code",
      "metadata": {
        "id": "XpiXnFVmN-Yg"
      },
      "source": [
        " #step 1 is to convert para in sentences\n",
        " sentence = nltk.sent_tokenize(paragraph)\n",
        " stemmer = PorterStemmer()"
      ],
      "execution_count": 46,
      "outputs": []
    },
    {
      "cell_type": "code",
      "metadata": {
        "id": "U4h9T1IJOwAv"
      },
      "source": [
        "stopwords.words('english')"
      ],
      "execution_count": null,
      "outputs": []
    },
    {
      "cell_type": "code",
      "metadata": {
        "colab": {
          "base_uri": "https://localhost:8080/"
        },
        "id": "dpISgnjJPJOb",
        "outputId": "b92e8d7d-af65-4280-8869-24e73b098b80"
      },
      "source": [
        "# removing stopwords\n",
        "for i in range(len(sentence)):\n",
        "  words = nltk.word_tokenize(sentence[i])\n",
        "  words = [stemmer.stem(word) for word in words if word not in set(stopwords.words('english'))]\n",
        "  sentence[i] = ' '.join(words)\n",
        "  print(sentence[i])"
      ],
      "execution_count": 47,
      "outputs": [
        {
          "output_type": "stream",
          "text": [
            "I three vision india .\n",
            "In 3000 year histori , peopl world come invad us , captur land , conquer mind .\n",
            "from alexand onward , greek , turk , mogul , portugues , british , french , dutch , came loot us , took .\n",
            "yet done nation .\n",
            "We conquer anyon .\n",
            "We grab land , cultur , histori tri enforc way life .\n",
            "whi ?\n",
            "becaus respect freedom others.that first vision freedom .\n",
            "I believ india got first vision 1857 , start war independ .\n",
            "It freedom must protect nurtur build .\n",
            "If free , one respect us .\n",
            "My second vision india ’ develop .\n",
            "for fifti year develop nation .\n",
            "It time see develop nation .\n",
            "We among top 5 nation world term gdp .\n",
            "We 10 percent growth rate area .\n",
            "our poverti level fall .\n",
            "our achiev global recognis today .\n",
            "yet lack self-confid see develop nation , self-reli self-assur .\n",
            "isn ’ incorrect ?\n",
            "I third vision .\n",
            "india must stand world .\n",
            "becaus I believ unless india stand world , one respect us .\n",
            "onli strength respect strength .\n",
            "We must strong militari power also econom power .\n",
            "both must go hand-in-hand .\n",
            "My good fortun work three great mind .\n",
            "dr. vikram sarabhai dept .\n",
            "space , professor satish dhawan , succeed dr. brahm prakash , father nuclear materi .\n",
            "I lucki work three close consid great opportun life .\n",
            "I see four mileston career\n"
          ],
          "name": "stdout"
        }
      ]
    },
    {
      "cell_type": "markdown",
      "metadata": {
        "id": "cmN0uCubT5Jr"
      },
      "source": [
        "#Lemmatization"
      ]
    },
    {
      "cell_type": "code",
      "metadata": {
        "id": "7zBKuzNOT8c5"
      },
      "source": [
        "from nltk.stem import WordNetLemmatizer\n",
        "from nltk.corpus import stopwords"
      ],
      "execution_count": 49,
      "outputs": []
    },
    {
      "cell_type": "code",
      "metadata": {
        "id": "lDciITQuUG_h"
      },
      "source": [
        "sentences = nltk.sent_tokenize(paragraph)\n",
        "lemmatizer = WordNetLemmatizer()"
      ],
      "execution_count": 51,
      "outputs": []
    },
    {
      "cell_type": "code",
      "metadata": {
        "colab": {
          "base_uri": "https://localhost:8080/"
        },
        "id": "ZeckoQqSUxIO",
        "outputId": "3447263c-1e99-4cf7-c9f4-7374d0f04b50"
      },
      "source": [
        "for i in range(len(sentences)):\n",
        "  words = nltk.word_tokenize(sentences[i])\n",
        "  words = [lemmatizer.lemmatize(word) for word in words if word not in set(stopwords.words('english'))]\n",
        "  sentences[i] = ' '.join(words)\n",
        "  print(sentences[i])"
      ],
      "execution_count": 52,
      "outputs": [
        {
          "output_type": "stream",
          "text": [
            "I three vision India .\n",
            "In 3000 year history , people world come invaded u , captured land , conquered mind .\n",
            "From Alexander onwards , Greeks , Turks , Moguls , Portuguese , British , French , Dutch , came looted u , took .\n",
            "Yet done nation .\n",
            "We conquered anyone .\n",
            "We grabbed land , culture , history tried enforce way life .\n",
            "Why ?\n",
            "Because respect freedom others.That first vision freedom .\n",
            "I believe India got first vision 1857 , started War Independence .\n",
            "It freedom must protect nurture build .\n",
            "If free , one respect u .\n",
            "My second vision India ’ development .\n",
            "For fifty year developing nation .\n",
            "It time see developed nation .\n",
            "We among top 5 nation world term GDP .\n",
            "We 10 percent growth rate area .\n",
            "Our poverty level falling .\n",
            "Our achievement globally recognised today .\n",
            "Yet lack self-confidence see developed nation , self-reliant self-assured .\n",
            "Isn ’ incorrect ?\n",
            "I third vision .\n",
            "India must stand world .\n",
            "Because I believe unless India stand world , one respect u .\n",
            "Only strength respect strength .\n",
            "We must strong military power also economic power .\n",
            "Both must go hand-in-hand .\n",
            "My good fortune worked three great mind .\n",
            "Dr. Vikram Sarabhai Dept .\n",
            "space , Professor Satish Dhawan , succeeded Dr. Brahm Prakash , father nuclear material .\n",
            "I lucky worked three closely consider great opportunity life .\n",
            "I see four milestone career\n"
          ],
          "name": "stdout"
        }
      ]
    }
  ]
}